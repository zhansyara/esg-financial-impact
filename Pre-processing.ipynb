{
 "cells": [
  {
   "cell_type": "code",
   "execution_count": 1,
   "id": "7aa163c0-f90e-4ce3-a1fa-249c5fdab7bb",
   "metadata": {},
   "outputs": [
    {
     "name": "stdout",
     "output_type": "stream",
     "text": [
      "2.2.3\n"
     ]
    }
   ],
   "source": [
    "import pandas as pd\n",
    "print(pd.__version__)"
   ]
  },
  {
   "cell_type": "code",
   "execution_count": 5,
   "id": "ca2f2352-7fa2-4812-8f98-524206f8b650",
   "metadata": {},
   "outputs": [
    {
     "name": "stdout",
     "output_type": "stream",
     "text": [
      "✅ Dataset cleaned and saved as 'cleaned_dataset.csv'\n"
     ]
    }
   ],
   "source": [
    "import pandas as pd\n",
    "\n",
    "# Step 1: Load dataset\n",
    "data = pd.read_excel(\"/Users/zhansaya/Downloads/esg_financial_dataset_with_sector.xlsx\")  # change this to your file path\n",
    "\n",
    "# Step 2: Keep only numerical columns\n",
    "data = data.select_dtypes(include=['number'])\n",
    "\n",
    "# Step 3: Replace missing values with the median of each column\n",
    "data = data.fillna(data.median())\n",
    "\n",
    "output_path = \"/Users/zhansaya/Downloads/cleaned_dataset.csv\"\n",
    "data.to_csv(output_path, index=False)\n",
    "\n",
    "print(\"✅ Dataset cleaned and saved as 'cleaned_dataset.csv'\")"
   ]
  },
  {
   "cell_type": "code",
   "execution_count": null,
   "id": "af70f8e0-a357-4405-864b-a1ae730b9d3b",
   "metadata": {},
   "outputs": [],
   "source": []
  },
  {
   "cell_type": "code",
   "execution_count": null,
   "id": "c1b9b8af-528e-418a-b542-a16089c325b6",
   "metadata": {},
   "outputs": [],
   "source": []
  }
 ],
 "metadata": {
  "kernelspec": {
   "display_name": "Python [conda env:base] *",
   "language": "python",
   "name": "conda-base-py"
  },
  "language_info": {
   "codemirror_mode": {
    "name": "ipython",
    "version": 3
   },
   "file_extension": ".py",
   "mimetype": "text/x-python",
   "name": "python",
   "nbconvert_exporter": "python",
   "pygments_lexer": "ipython3",
   "version": "3.13.5"
  }
 },
 "nbformat": 4,
 "nbformat_minor": 5
}
